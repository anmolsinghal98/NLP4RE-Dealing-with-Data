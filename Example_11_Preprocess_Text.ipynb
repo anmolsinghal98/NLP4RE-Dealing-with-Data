{
  "nbformat": 4,
  "nbformat_minor": 0,
  "metadata": {
    "colab": {
      "provenance": []
    },
    "kernelspec": {
      "name": "python3",
      "display_name": "Python 3"
    },
    "language_info": {
      "name": "python"
    }
  },
  "cells": [
    {
      "cell_type": "code",
      "execution_count": null,
      "metadata": {
        "id": "v0RNAdWawEYQ"
      },
      "outputs": [],
      "source": [
        "# Installing Dependencies\n",
        "\n",
        "!pip install xformers\n",
        "!pip install transformers[torch]\n",
        "!pip install datasets\n",
        "!pip install  torchtext"
      ]
    }
  ]
}