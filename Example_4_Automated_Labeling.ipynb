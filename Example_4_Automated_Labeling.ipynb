{
  "nbformat": 4,
  "nbformat_minor": 0,
  "metadata": {
    "colab": {
      "provenance": []
    },
    "kernelspec": {
      "name": "python3",
      "display_name": "Python 3"
    },
    "language_info": {
      "name": "python"
    }
  },
  "cells": [
    {
      "cell_type": "code",
      "execution_count": null,
      "metadata": {
        "id": "CcFtSnpQn4td"
      },
      "outputs": [],
      "source": [
        "# Installing Dependencies\n",
        "\n",
        "!pip install xformers\n",
        "!pip install transformers[torch]\n",
        "!pip install datasets\n",
        "!pip install  torchtext"
      ]
    },
    {
      "cell_type": "code",
      "source": [],
      "metadata": {
        "id": "zHP_hfYfoBhx"
      },
      "execution_count": null,
      "outputs": []
    },
    {
      "cell_type": "code",
      "source": [],
      "metadata": {
        "id": "cN3XYTJMoBWv"
      },
      "execution_count": null,
      "outputs": []
    }
  ]
}