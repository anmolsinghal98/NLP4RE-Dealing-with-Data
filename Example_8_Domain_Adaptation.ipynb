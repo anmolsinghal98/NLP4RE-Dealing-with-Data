{
  "nbformat": 4,
  "nbformat_minor": 0,
  "metadata": {
    "colab": {
      "provenance": []
    },
    "kernelspec": {
      "name": "python3",
      "display_name": "Python 3"
    },
    "language_info": {
      "name": "python"
    }
  },
  "cells": [
    {
      "cell_type": "code",
      "execution_count": null,
      "metadata": {
        "id": "cTOSPeWatK_p"
      },
      "outputs": [],
      "source": [
        "# The method and implementation details are provided in the paper.\n",
        "\n",
        "# Reference:\n",
        "# Sancheti, A., Garimella, A., Srinivasan, B.V., Rudinger, R.: Agent-specific deontic modality detection in legal language. In: Goldberg, Y., Kozareva, Z., Zhang, Y. (eds.) Proceedings of the 2022 Conference on Empirical Methods in Natural Language Processing. pp. 11563–11579. Association for Computational Linguistics, Abu Dhabi, United Arab Emirates (Dec 2022). https://doi.org/10.18653/v1/2022.emnlp-main.795"
      ]
    }
  ]
}