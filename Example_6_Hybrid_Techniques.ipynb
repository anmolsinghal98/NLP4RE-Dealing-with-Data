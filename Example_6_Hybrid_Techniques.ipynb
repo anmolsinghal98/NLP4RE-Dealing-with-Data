{
  "nbformat": 4,
  "nbformat_minor": 0,
  "metadata": {
    "colab": {
      "provenance": []
    },
    "kernelspec": {
      "name": "python3",
      "display_name": "Python 3"
    },
    "language_info": {
      "name": "python"
    }
  },
  "cells": [
    {
      "cell_type": "code",
      "execution_count": null,
      "metadata": {
        "id": "munVTToboqTT"
      },
      "outputs": [],
      "source": [
        "# The method and implementation details are provided in the paper.\n",
        "\n",
        "#Reference:\n",
        "# Binkhonain, M., Zhao, L.: A machine learning approach for hierarchical classifi- cation of software requirements.\n",
        "# Machine Learning with Applications 12, 100457 (2023), https://doi.org/10.1016/j.mlwa.2023.100457"
      ]
    }
  ]
}