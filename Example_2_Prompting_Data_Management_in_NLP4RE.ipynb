{
  "cells": [
    {
      "cell_type": "code",
      "source": [
        "# Installing Dependencies\n",
        "\n",
        "!pip install langchain\n",
        "!pip install openai"
      ],
      "metadata": {
        "colab": {
          "base_uri": "https://localhost:8080/"
        },
        "id": "s_JgP0VgsIvw",
        "outputId": "f34b83be-5721-435e-fd79-8226fc25a6b7"
      },
      "id": "s_JgP0VgsIvw",
      "execution_count": null,
      "outputs": [
        {
          "output_type": "stream",
          "name": "stdout",
          "text": [
            "Collecting langchain\n",
            "  Downloading langchain-0.0.275-py3-none-any.whl (1.6 MB)\n",
            "\u001b[?25l     \u001b[90m━━━━━━━━━━━━━━━━━━━━━━━━━━━━━━━━━━━━━━━━\u001b[0m \u001b[32m0.0/1.6 MB\u001b[0m \u001b[31m?\u001b[0m eta \u001b[36m-:--:--\u001b[0m\r\u001b[2K     \u001b[91m━━\u001b[0m\u001b[91m╸\u001b[0m\u001b[90m━━━━━━━━━━━━━━━━━━━━━━━━━━━━━━━━━━━━━\u001b[0m \u001b[32m0.1/1.6 MB\u001b[0m \u001b[31m3.3 MB/s\u001b[0m eta \u001b[36m0:00:01\u001b[0m\r\u001b[2K     \u001b[91m━━━━━━━━━━━━━━━━━━━━━━━━\u001b[0m\u001b[91m╸\u001b[0m\u001b[90m━━━━━━━━━━━━━━━\u001b[0m \u001b[32m1.0/1.6 MB\u001b[0m \u001b[31m14.2 MB/s\u001b[0m eta \u001b[36m0:00:01\u001b[0m\r\u001b[2K     \u001b[90m━━━━━━━━━━━━━━━━━━━━━━━━━━━━━━━━━━━━━━━━\u001b[0m \u001b[32m1.6/1.6 MB\u001b[0m \u001b[31m15.8 MB/s\u001b[0m eta \u001b[36m0:00:00\u001b[0m\n",
            "\u001b[?25hRequirement already satisfied: PyYAML>=5.3 in /usr/local/lib/python3.10/dist-packages (from langchain) (6.0.1)\n",
            "Requirement already satisfied: SQLAlchemy<3,>=1.4 in /usr/local/lib/python3.10/dist-packages (from langchain) (2.0.20)\n",
            "Requirement already satisfied: aiohttp<4.0.0,>=3.8.3 in /usr/local/lib/python3.10/dist-packages (from langchain) (3.8.5)\n",
            "Requirement already satisfied: async-timeout<5.0.0,>=4.0.0 in /usr/local/lib/python3.10/dist-packages (from langchain) (4.0.3)\n",
            "Collecting dataclasses-json<0.6.0,>=0.5.7 (from langchain)\n",
            "  Downloading dataclasses_json-0.5.14-py3-none-any.whl (26 kB)\n",
            "Collecting langsmith<0.1.0,>=0.0.21 (from langchain)\n",
            "  Downloading langsmith-0.0.27-py3-none-any.whl (34 kB)\n",
            "Requirement already satisfied: numexpr<3.0.0,>=2.8.4 in /usr/local/lib/python3.10/dist-packages (from langchain) (2.8.5)\n",
            "Requirement already satisfied: numpy<2,>=1 in /usr/local/lib/python3.10/dist-packages (from langchain) (1.23.5)\n",
            "Requirement already satisfied: pydantic<3,>=1 in /usr/local/lib/python3.10/dist-packages (from langchain) (2.2.1)\n",
            "Requirement already satisfied: requests<3,>=2 in /usr/local/lib/python3.10/dist-packages (from langchain) (2.31.0)\n",
            "Requirement already satisfied: tenacity<9.0.0,>=8.1.0 in /usr/local/lib/python3.10/dist-packages (from langchain) (8.2.3)\n",
            "Requirement already satisfied: attrs>=17.3.0 in /usr/local/lib/python3.10/dist-packages (from aiohttp<4.0.0,>=3.8.3->langchain) (23.1.0)\n",
            "Requirement already satisfied: charset-normalizer<4.0,>=2.0 in /usr/local/lib/python3.10/dist-packages (from aiohttp<4.0.0,>=3.8.3->langchain) (3.2.0)\n",
            "Requirement already satisfied: multidict<7.0,>=4.5 in /usr/local/lib/python3.10/dist-packages (from aiohttp<4.0.0,>=3.8.3->langchain) (6.0.4)\n",
            "Requirement already satisfied: yarl<2.0,>=1.0 in /usr/local/lib/python3.10/dist-packages (from aiohttp<4.0.0,>=3.8.3->langchain) (1.9.2)\n",
            "Requirement already satisfied: frozenlist>=1.1.1 in /usr/local/lib/python3.10/dist-packages (from aiohttp<4.0.0,>=3.8.3->langchain) (1.4.0)\n",
            "Requirement already satisfied: aiosignal>=1.1.2 in /usr/local/lib/python3.10/dist-packages (from aiohttp<4.0.0,>=3.8.3->langchain) (1.3.1)\n",
            "Collecting marshmallow<4.0.0,>=3.18.0 (from dataclasses-json<0.6.0,>=0.5.7->langchain)\n",
            "  Downloading marshmallow-3.20.1-py3-none-any.whl (49 kB)\n",
            "\u001b[2K     \u001b[90m━━━━━━━━━━━━━━━━━━━━━━━━━━━━━━━━━━━━━━━━\u001b[0m \u001b[32m49.4/49.4 kB\u001b[0m \u001b[31m4.7 MB/s\u001b[0m eta \u001b[36m0:00:00\u001b[0m\n",
            "\u001b[?25hCollecting typing-inspect<1,>=0.4.0 (from dataclasses-json<0.6.0,>=0.5.7->langchain)\n",
            "  Downloading typing_inspect-0.9.0-py3-none-any.whl (8.8 kB)\n",
            "Requirement already satisfied: annotated-types>=0.4.0 in /usr/local/lib/python3.10/dist-packages (from pydantic<3,>=1->langchain) (0.5.0)\n",
            "Requirement already satisfied: pydantic-core==2.6.1 in /usr/local/lib/python3.10/dist-packages (from pydantic<3,>=1->langchain) (2.6.1)\n",
            "Requirement already satisfied: typing-extensions>=4.6.1 in /usr/local/lib/python3.10/dist-packages (from pydantic<3,>=1->langchain) (4.7.1)\n",
            "Requirement already satisfied: idna<4,>=2.5 in /usr/local/lib/python3.10/dist-packages (from requests<3,>=2->langchain) (3.4)\n",
            "Requirement already satisfied: urllib3<3,>=1.21.1 in /usr/local/lib/python3.10/dist-packages (from requests<3,>=2->langchain) (2.0.4)\n",
            "Requirement already satisfied: certifi>=2017.4.17 in /usr/local/lib/python3.10/dist-packages (from requests<3,>=2->langchain) (2023.7.22)\n",
            "Requirement already satisfied: greenlet!=0.4.17 in /usr/local/lib/python3.10/dist-packages (from SQLAlchemy<3,>=1.4->langchain) (2.0.2)\n",
            "Requirement already satisfied: packaging>=17.0 in /usr/local/lib/python3.10/dist-packages (from marshmallow<4.0.0,>=3.18.0->dataclasses-json<0.6.0,>=0.5.7->langchain) (23.1)\n",
            "Collecting mypy-extensions>=0.3.0 (from typing-inspect<1,>=0.4.0->dataclasses-json<0.6.0,>=0.5.7->langchain)\n",
            "  Downloading mypy_extensions-1.0.0-py3-none-any.whl (4.7 kB)\n",
            "Installing collected packages: mypy-extensions, marshmallow, typing-inspect, langsmith, dataclasses-json, langchain\n",
            "Successfully installed dataclasses-json-0.5.14 langchain-0.0.275 langsmith-0.0.27 marshmallow-3.20.1 mypy-extensions-1.0.0 typing-inspect-0.9.0\n",
            "Collecting openai\n",
            "  Downloading openai-0.27.9-py3-none-any.whl (75 kB)\n",
            "\u001b[2K     \u001b[90m━━━━━━━━━━━━━━━━━━━━━━━━━━━━━━━━━━━━━━━\u001b[0m \u001b[32m75.5/75.5 kB\u001b[0m \u001b[31m369.8 kB/s\u001b[0m eta \u001b[36m0:00:00\u001b[0m\n",
            "\u001b[?25hRequirement already satisfied: requests>=2.20 in /usr/local/lib/python3.10/dist-packages (from openai) (2.31.0)\n",
            "Requirement already satisfied: tqdm in /usr/local/lib/python3.10/dist-packages (from openai) (4.66.1)\n",
            "Requirement already satisfied: aiohttp in /usr/local/lib/python3.10/dist-packages (from openai) (3.8.5)\n",
            "Requirement already satisfied: charset-normalizer<4,>=2 in /usr/local/lib/python3.10/dist-packages (from requests>=2.20->openai) (3.2.0)\n",
            "Requirement already satisfied: idna<4,>=2.5 in /usr/local/lib/python3.10/dist-packages (from requests>=2.20->openai) (3.4)\n",
            "Requirement already satisfied: urllib3<3,>=1.21.1 in /usr/local/lib/python3.10/dist-packages (from requests>=2.20->openai) (2.0.4)\n",
            "Requirement already satisfied: certifi>=2017.4.17 in /usr/local/lib/python3.10/dist-packages (from requests>=2.20->openai) (2023.7.22)\n",
            "Requirement already satisfied: attrs>=17.3.0 in /usr/local/lib/python3.10/dist-packages (from aiohttp->openai) (23.1.0)\n",
            "Requirement already satisfied: multidict<7.0,>=4.5 in /usr/local/lib/python3.10/dist-packages (from aiohttp->openai) (6.0.4)\n",
            "Requirement already satisfied: async-timeout<5.0,>=4.0.0a3 in /usr/local/lib/python3.10/dist-packages (from aiohttp->openai) (4.0.3)\n",
            "Requirement already satisfied: yarl<2.0,>=1.0 in /usr/local/lib/python3.10/dist-packages (from aiohttp->openai) (1.9.2)\n",
            "Requirement already satisfied: frozenlist>=1.1.1 in /usr/local/lib/python3.10/dist-packages (from aiohttp->openai) (1.4.0)\n",
            "Requirement already satisfied: aiosignal>=1.1.2 in /usr/local/lib/python3.10/dist-packages (from aiohttp->openai) (1.3.1)\n",
            "Installing collected packages: openai\n",
            "Successfully installed openai-0.27.9\n"
          ]
        }
      ]
    },
    {
      "cell_type": "code",
      "source": [
        "# Mounting Google Drive\n",
        "\n",
        "from google.colab import drive\n",
        "drive.mount('/content/drive')"
      ],
      "metadata": {
        "colab": {
          "base_uri": "https://localhost:8080/"
        },
        "id": "EZOMKp7lrzV0",
        "outputId": "95ed96b7-943e-4a26-ca15-1135a378dc29"
      },
      "id": "EZOMKp7lrzV0",
      "execution_count": null,
      "outputs": [
        {
          "output_type": "stream",
          "name": "stdout",
          "text": [
            "Mounted at /content/drive\n"
          ]
        }
      ]
    },
    {
      "cell_type": "code",
      "source": [
        "# Loading libraries\n",
        "\n",
        "import os\n",
        "from langchain.llms import OpenAI\n",
        "from langchain.prompts import PromptTemplate\n",
        "from langchain.chains import LLMChain\n",
        "from langchain.chains import SimpleSequentialChain\n",
        "from langchain.chains import SequentialChain\n",
        "from langchain.agents import AgentType, initialize_agent, load_tools\n",
        "from langchain.prompts.few_shot import FewShotPromptTemplate\n",
        "from langchain.llms import OpenAI\n",
        "import pandas as pd\n",
        "import numpy as np\n",
        "import random\n",
        "import time\n",
        "from sklearn.model_selection import train_test_split\n",
        "from sklearn.metrics import accuracy_score\n",
        "from tqdm import tqdm\n",
        "import re"
      ],
      "metadata": {
        "id": "T0DjvGWxsJKp"
      },
      "id": "T0DjvGWxsJKp",
      "execution_count": null,
      "outputs": []
    },
    {
      "cell_type": "code",
      "source": [
        "RANDOM_SEED = 16"
      ],
      "metadata": {
        "id": "Nqxf6msJ6g_M"
      },
      "id": "Nqxf6msJ6g_M",
      "execution_count": null,
      "outputs": []
    },
    {
      "cell_type": "code",
      "source": [
        "from secret_key import openapi_key"
      ],
      "metadata": {
        "id": "qBBl-sHFtVX5"
      },
      "id": "qBBl-sHFtVX5",
      "execution_count": null,
      "outputs": []
    },
    {
      "cell_type": "code",
      "source": [
        "# Setting openAI key\n",
        "\n",
        "from secret_key import openapi_key\n",
        "\n",
        "os.environ['OPENAI_API_KEY'] = openapi_key\n"
      ],
      "metadata": {
        "id": "y9f_mKPbsisi"
      },
      "id": "y9f_mKPbsisi",
      "execution_count": null,
      "outputs": []
    },
    {
      "cell_type": "code",
      "source": [
        "# Loading the Dataset\n",
        "\n",
        "df = pd.read_csv(\"/content/drive/MyDrive/llm/data/Expanded_PROMISE.csv\")"
      ],
      "metadata": {
        "id": "2teHg3ph5glh"
      },
      "id": "2teHg3ph5glh",
      "execution_count": null,
      "outputs": []
    },
    {
      "cell_type": "code",
      "source": [
        "# Checking the loaded dataset\n",
        "\n",
        "df.head(5)"
      ],
      "metadata": {
        "colab": {
          "base_uri": "https://localhost:8080/",
          "height": 112
        },
        "id": "iIk2KDJi5goq",
        "outputId": "05a1e29d-ba76-4d2b-b699-de5ef3349880"
      },
      "id": "iIk2KDJi5goq",
      "execution_count": null,
      "outputs": [
        {
          "output_type": "execute_result",
          "data": {
            "text/plain": [
              "   Id                                    RequirementText Class  Binary_Label\n",
              "0   1  The product shall be available during normal b...     A             1\n",
              "1   2  The product shall be available for use 24 hour...     A             1"
            ],
            "text/html": [
              "\n",
              "\n",
              "  <div id=\"df-5c972b9c-b531-4555-b604-a7cca18c0c14\">\n",
              "    <div class=\"colab-df-container\">\n",
              "      <div>\n",
              "<style scoped>\n",
              "    .dataframe tbody tr th:only-of-type {\n",
              "        vertical-align: middle;\n",
              "    }\n",
              "\n",
              "    .dataframe tbody tr th {\n",
              "        vertical-align: top;\n",
              "    }\n",
              "\n",
              "    .dataframe thead th {\n",
              "        text-align: right;\n",
              "    }\n",
              "</style>\n",
              "<table border=\"1\" class=\"dataframe\">\n",
              "  <thead>\n",
              "    <tr style=\"text-align: right;\">\n",
              "      <th></th>\n",
              "      <th>Id</th>\n",
              "      <th>RequirementText</th>\n",
              "      <th>Class</th>\n",
              "      <th>Binary_Label</th>\n",
              "    </tr>\n",
              "  </thead>\n",
              "  <tbody>\n",
              "    <tr>\n",
              "      <th>0</th>\n",
              "      <td>1</td>\n",
              "      <td>The product shall be available during normal b...</td>\n",
              "      <td>A</td>\n",
              "      <td>1</td>\n",
              "    </tr>\n",
              "    <tr>\n",
              "      <th>1</th>\n",
              "      <td>2</td>\n",
              "      <td>The product shall be available for use 24 hour...</td>\n",
              "      <td>A</td>\n",
              "      <td>1</td>\n",
              "    </tr>\n",
              "  </tbody>\n",
              "</table>\n",
              "</div>\n",
              "      <button class=\"colab-df-convert\" onclick=\"convertToInteractive('df-5c972b9c-b531-4555-b604-a7cca18c0c14')\"\n",
              "              title=\"Convert this dataframe to an interactive table.\"\n",
              "              style=\"display:none;\">\n",
              "\n",
              "  <svg xmlns=\"http://www.w3.org/2000/svg\" height=\"24px\"viewBox=\"0 0 24 24\"\n",
              "       width=\"24px\">\n",
              "    <path d=\"M0 0h24v24H0V0z\" fill=\"none\"/>\n",
              "    <path d=\"M18.56 5.44l.94 2.06.94-2.06 2.06-.94-2.06-.94-.94-2.06-.94 2.06-2.06.94zm-11 1L8.5 8.5l.94-2.06 2.06-.94-2.06-.94L8.5 2.5l-.94 2.06-2.06.94zm10 10l.94 2.06.94-2.06 2.06-.94-2.06-.94-.94-2.06-.94 2.06-2.06.94z\"/><path d=\"M17.41 7.96l-1.37-1.37c-.4-.4-.92-.59-1.43-.59-.52 0-1.04.2-1.43.59L10.3 9.45l-7.72 7.72c-.78.78-.78 2.05 0 2.83L4 21.41c.39.39.9.59 1.41.59.51 0 1.02-.2 1.41-.59l7.78-7.78 2.81-2.81c.8-.78.8-2.07 0-2.86zM5.41 20L4 18.59l7.72-7.72 1.47 1.35L5.41 20z\"/>\n",
              "  </svg>\n",
              "      </button>\n",
              "\n",
              "\n",
              "\n",
              "    <div id=\"df-a8b614d2-b518-41be-a919-1eefe18ff7c1\">\n",
              "      <button class=\"colab-df-quickchart\" onclick=\"quickchart('df-a8b614d2-b518-41be-a919-1eefe18ff7c1')\"\n",
              "              title=\"Suggest charts.\"\n",
              "              style=\"display:none;\">\n",
              "\n",
              "<svg xmlns=\"http://www.w3.org/2000/svg\" height=\"24px\"viewBox=\"0 0 24 24\"\n",
              "     width=\"24px\">\n",
              "    <g>\n",
              "        <path d=\"M19 3H5c-1.1 0-2 .9-2 2v14c0 1.1.9 2 2 2h14c1.1 0 2-.9 2-2V5c0-1.1-.9-2-2-2zM9 17H7v-7h2v7zm4 0h-2V7h2v10zm4 0h-2v-4h2v4z\"/>\n",
              "    </g>\n",
              "</svg>\n",
              "      </button>\n",
              "    </div>\n",
              "\n",
              "<style>\n",
              "  .colab-df-quickchart {\n",
              "    background-color: #E8F0FE;\n",
              "    border: none;\n",
              "    border-radius: 50%;\n",
              "    cursor: pointer;\n",
              "    display: none;\n",
              "    fill: #1967D2;\n",
              "    height: 32px;\n",
              "    padding: 0 0 0 0;\n",
              "    width: 32px;\n",
              "  }\n",
              "\n",
              "  .colab-df-quickchart:hover {\n",
              "    background-color: #E2EBFA;\n",
              "    box-shadow: 0px 1px 2px rgba(60, 64, 67, 0.3), 0px 1px 3px 1px rgba(60, 64, 67, 0.15);\n",
              "    fill: #174EA6;\n",
              "  }\n",
              "\n",
              "  [theme=dark] .colab-df-quickchart {\n",
              "    background-color: #3B4455;\n",
              "    fill: #D2E3FC;\n",
              "  }\n",
              "\n",
              "  [theme=dark] .colab-df-quickchart:hover {\n",
              "    background-color: #434B5C;\n",
              "    box-shadow: 0px 1px 3px 1px rgba(0, 0, 0, 0.15);\n",
              "    filter: drop-shadow(0px 1px 2px rgba(0, 0, 0, 0.3));\n",
              "    fill: #FFFFFF;\n",
              "  }\n",
              "</style>\n",
              "\n",
              "    <script>\n",
              "      async function quickchart(key) {\n",
              "        const containerElement = document.querySelector('#' + key);\n",
              "        const charts = await google.colab.kernel.invokeFunction(\n",
              "            'suggestCharts', [key], {});\n",
              "      }\n",
              "    </script>\n",
              "\n",
              "      <script>\n",
              "\n",
              "function displayQuickchartButton(domScope) {\n",
              "  let quickchartButtonEl =\n",
              "    domScope.querySelector('#df-a8b614d2-b518-41be-a919-1eefe18ff7c1 button.colab-df-quickchart');\n",
              "  quickchartButtonEl.style.display =\n",
              "    google.colab.kernel.accessAllowed ? 'block' : 'none';\n",
              "}\n",
              "\n",
              "        displayQuickchartButton(document);\n",
              "      </script>\n",
              "      <style>\n",
              "    .colab-df-container {\n",
              "      display:flex;\n",
              "      flex-wrap:wrap;\n",
              "      gap: 12px;\n",
              "    }\n",
              "\n",
              "    .colab-df-convert {\n",
              "      background-color: #E8F0FE;\n",
              "      border: none;\n",
              "      border-radius: 50%;\n",
              "      cursor: pointer;\n",
              "      display: none;\n",
              "      fill: #1967D2;\n",
              "      height: 32px;\n",
              "      padding: 0 0 0 0;\n",
              "      width: 32px;\n",
              "    }\n",
              "\n",
              "    .colab-df-convert:hover {\n",
              "      background-color: #E2EBFA;\n",
              "      box-shadow: 0px 1px 2px rgba(60, 64, 67, 0.3), 0px 1px 3px 1px rgba(60, 64, 67, 0.15);\n",
              "      fill: #174EA6;\n",
              "    }\n",
              "\n",
              "    [theme=dark] .colab-df-convert {\n",
              "      background-color: #3B4455;\n",
              "      fill: #D2E3FC;\n",
              "    }\n",
              "\n",
              "    [theme=dark] .colab-df-convert:hover {\n",
              "      background-color: #434B5C;\n",
              "      box-shadow: 0px 1px 3px 1px rgba(0, 0, 0, 0.15);\n",
              "      filter: drop-shadow(0px 1px 2px rgba(0, 0, 0, 0.3));\n",
              "      fill: #FFFFFF;\n",
              "    }\n",
              "  </style>\n",
              "\n",
              "      <script>\n",
              "        const buttonEl =\n",
              "          document.querySelector('#df-5c972b9c-b531-4555-b604-a7cca18c0c14 button.colab-df-convert');\n",
              "        buttonEl.style.display =\n",
              "          google.colab.kernel.accessAllowed ? 'block' : 'none';\n",
              "\n",
              "        async function convertToInteractive(key) {\n",
              "          const element = document.querySelector('#df-5c972b9c-b531-4555-b604-a7cca18c0c14');\n",
              "          const dataTable =\n",
              "            await google.colab.kernel.invokeFunction('convertToInteractive',\n",
              "                                                     [key], {});\n",
              "          if (!dataTable) return;\n",
              "\n",
              "          const docLinkHtml = 'Like what you see? Visit the ' +\n",
              "            '<a target=\"_blank\" href=https://colab.research.google.com/notebooks/data_table.ipynb>data table notebook</a>'\n",
              "            + ' to learn more about interactive tables.';\n",
              "          element.innerHTML = '';\n",
              "          dataTable['output_type'] = 'display_data';\n",
              "          await google.colab.output.renderOutput(dataTable, element);\n",
              "          const docLink = document.createElement('div');\n",
              "          docLink.innerHTML = docLinkHtml;\n",
              "          element.appendChild(docLink);\n",
              "        }\n",
              "      </script>\n",
              "    </div>\n",
              "  </div>\n"
            ]
          },
          "metadata": {},
          "execution_count": 8
        }
      ]
    },
    {
      "cell_type": "code",
      "source": [
        "# Dataset metadata values\n",
        "\n",
        "df.info()"
      ],
      "metadata": {
        "colab": {
          "base_uri": "https://localhost:8080/"
        },
        "id": "K7pF9BI98rb5",
        "outputId": "dd1ab337-10df-4335-e0f6-f7788cffa549"
      },
      "id": "K7pF9BI98rb5",
      "execution_count": null,
      "outputs": [
        {
          "output_type": "stream",
          "name": "stdout",
          "text": [
            "<class 'pandas.core.frame.DataFrame'>\n",
            "RangeIndex: 969 entries, 0 to 968\n",
            "Data columns (total 4 columns):\n",
            " #   Column           Non-Null Count  Dtype \n",
            "---  ------           --------------  ----- \n",
            " 0   Id               969 non-null    int64 \n",
            " 1   RequirementText  969 non-null    object\n",
            " 2   Class            969 non-null    object\n",
            " 3   Binary_Label     969 non-null    int64 \n",
            "dtypes: int64(2), object(2)\n",
            "memory usage: 30.4+ KB\n"
          ]
        }
      ]
    },
    {
      "cell_type": "code",
      "source": [
        "# Creating the training and validation split\n",
        "\n",
        "df_train, df_val= train_test_split(df, test_size=0.2, random_state=RANDOM_SEED)"
      ],
      "metadata": {
        "id": "u0AiPOxa6dCN"
      },
      "id": "u0AiPOxa6dCN",
      "execution_count": null,
      "outputs": []
    },
    {
      "cell_type": "code",
      "source": [
        "df_train.head()"
      ],
      "metadata": {
        "colab": {
          "base_uri": "https://localhost:8080/",
          "height": 206
        },
        "id": "GO2H2011_mUd",
        "outputId": "80950292-a6cd-48b7-db53-6d6ab01a5f70"
      },
      "id": "GO2H2011_mUd",
      "execution_count": null,
      "outputs": [
        {
          "output_type": "execute_result",
          "data": {
            "text/plain": [
              "     Id                                    RequirementText Class  Binary_Label\n",
              "337  33  The system shall allow user to choose their pr...     F             0\n",
              "528  10  The product shall display each type of ship in...    LF             1\n",
              "591   4  The Disputes applications shall interface with...     O             1\n",
              "427  46  The system shall display only 10 matching resu...     F             0\n",
              "351  38  Can give feedback to the 24X7 Customer Care Se...     F             0"
            ],
            "text/html": [
              "\n",
              "\n",
              "  <div id=\"df-afb3f83b-7a11-404c-bda2-52cd9e3e7fa9\">\n",
              "    <div class=\"colab-df-container\">\n",
              "      <div>\n",
              "<style scoped>\n",
              "    .dataframe tbody tr th:only-of-type {\n",
              "        vertical-align: middle;\n",
              "    }\n",
              "\n",
              "    .dataframe tbody tr th {\n",
              "        vertical-align: top;\n",
              "    }\n",
              "\n",
              "    .dataframe thead th {\n",
              "        text-align: right;\n",
              "    }\n",
              "</style>\n",
              "<table border=\"1\" class=\"dataframe\">\n",
              "  <thead>\n",
              "    <tr style=\"text-align: right;\">\n",
              "      <th></th>\n",
              "      <th>Id</th>\n",
              "      <th>RequirementText</th>\n",
              "      <th>Class</th>\n",
              "      <th>Binary_Label</th>\n",
              "    </tr>\n",
              "  </thead>\n",
              "  <tbody>\n",
              "    <tr>\n",
              "      <th>337</th>\n",
              "      <td>33</td>\n",
              "      <td>The system shall allow user to choose their pr...</td>\n",
              "      <td>F</td>\n",
              "      <td>0</td>\n",
              "    </tr>\n",
              "    <tr>\n",
              "      <th>528</th>\n",
              "      <td>10</td>\n",
              "      <td>The product shall display each type of ship in...</td>\n",
              "      <td>LF</td>\n",
              "      <td>1</td>\n",
              "    </tr>\n",
              "    <tr>\n",
              "      <th>591</th>\n",
              "      <td>4</td>\n",
              "      <td>The Disputes applications shall interface with...</td>\n",
              "      <td>O</td>\n",
              "      <td>1</td>\n",
              "    </tr>\n",
              "    <tr>\n",
              "      <th>427</th>\n",
              "      <td>46</td>\n",
              "      <td>The system shall display only 10 matching resu...</td>\n",
              "      <td>F</td>\n",
              "      <td>0</td>\n",
              "    </tr>\n",
              "    <tr>\n",
              "      <th>351</th>\n",
              "      <td>38</td>\n",
              "      <td>Can give feedback to the 24X7 Customer Care Se...</td>\n",
              "      <td>F</td>\n",
              "      <td>0</td>\n",
              "    </tr>\n",
              "  </tbody>\n",
              "</table>\n",
              "</div>\n",
              "      <button class=\"colab-df-convert\" onclick=\"convertToInteractive('df-afb3f83b-7a11-404c-bda2-52cd9e3e7fa9')\"\n",
              "              title=\"Convert this dataframe to an interactive table.\"\n",
              "              style=\"display:none;\">\n",
              "\n",
              "  <svg xmlns=\"http://www.w3.org/2000/svg\" height=\"24px\"viewBox=\"0 0 24 24\"\n",
              "       width=\"24px\">\n",
              "    <path d=\"M0 0h24v24H0V0z\" fill=\"none\"/>\n",
              "    <path d=\"M18.56 5.44l.94 2.06.94-2.06 2.06-.94-2.06-.94-.94-2.06-.94 2.06-2.06.94zm-11 1L8.5 8.5l.94-2.06 2.06-.94-2.06-.94L8.5 2.5l-.94 2.06-2.06.94zm10 10l.94 2.06.94-2.06 2.06-.94-2.06-.94-.94-2.06-.94 2.06-2.06.94z\"/><path d=\"M17.41 7.96l-1.37-1.37c-.4-.4-.92-.59-1.43-.59-.52 0-1.04.2-1.43.59L10.3 9.45l-7.72 7.72c-.78.78-.78 2.05 0 2.83L4 21.41c.39.39.9.59 1.41.59.51 0 1.02-.2 1.41-.59l7.78-7.78 2.81-2.81c.8-.78.8-2.07 0-2.86zM5.41 20L4 18.59l7.72-7.72 1.47 1.35L5.41 20z\"/>\n",
              "  </svg>\n",
              "      </button>\n",
              "\n",
              "\n",
              "\n",
              "    <div id=\"df-2afb6ed0-8296-415a-97c4-a9a2b2d105b4\">\n",
              "      <button class=\"colab-df-quickchart\" onclick=\"quickchart('df-2afb6ed0-8296-415a-97c4-a9a2b2d105b4')\"\n",
              "              title=\"Suggest charts.\"\n",
              "              style=\"display:none;\">\n",
              "\n",
              "<svg xmlns=\"http://www.w3.org/2000/svg\" height=\"24px\"viewBox=\"0 0 24 24\"\n",
              "     width=\"24px\">\n",
              "    <g>\n",
              "        <path d=\"M19 3H5c-1.1 0-2 .9-2 2v14c0 1.1.9 2 2 2h14c1.1 0 2-.9 2-2V5c0-1.1-.9-2-2-2zM9 17H7v-7h2v7zm4 0h-2V7h2v10zm4 0h-2v-4h2v4z\"/>\n",
              "    </g>\n",
              "</svg>\n",
              "      </button>\n",
              "    </div>\n",
              "\n",
              "<style>\n",
              "  .colab-df-quickchart {\n",
              "    background-color: #E8F0FE;\n",
              "    border: none;\n",
              "    border-radius: 50%;\n",
              "    cursor: pointer;\n",
              "    display: none;\n",
              "    fill: #1967D2;\n",
              "    height: 32px;\n",
              "    padding: 0 0 0 0;\n",
              "    width: 32px;\n",
              "  }\n",
              "\n",
              "  .colab-df-quickchart:hover {\n",
              "    background-color: #E2EBFA;\n",
              "    box-shadow: 0px 1px 2px rgba(60, 64, 67, 0.3), 0px 1px 3px 1px rgba(60, 64, 67, 0.15);\n",
              "    fill: #174EA6;\n",
              "  }\n",
              "\n",
              "  [theme=dark] .colab-df-quickchart {\n",
              "    background-color: #3B4455;\n",
              "    fill: #D2E3FC;\n",
              "  }\n",
              "\n",
              "  [theme=dark] .colab-df-quickchart:hover {\n",
              "    background-color: #434B5C;\n",
              "    box-shadow: 0px 1px 3px 1px rgba(0, 0, 0, 0.15);\n",
              "    filter: drop-shadow(0px 1px 2px rgba(0, 0, 0, 0.3));\n",
              "    fill: #FFFFFF;\n",
              "  }\n",
              "</style>\n",
              "\n",
              "    <script>\n",
              "      async function quickchart(key) {\n",
              "        const containerElement = document.querySelector('#' + key);\n",
              "        const charts = await google.colab.kernel.invokeFunction(\n",
              "            'suggestCharts', [key], {});\n",
              "      }\n",
              "    </script>\n",
              "\n",
              "      <script>\n",
              "\n",
              "function displayQuickchartButton(domScope) {\n",
              "  let quickchartButtonEl =\n",
              "    domScope.querySelector('#df-2afb6ed0-8296-415a-97c4-a9a2b2d105b4 button.colab-df-quickchart');\n",
              "  quickchartButtonEl.style.display =\n",
              "    google.colab.kernel.accessAllowed ? 'block' : 'none';\n",
              "}\n",
              "\n",
              "        displayQuickchartButton(document);\n",
              "      </script>\n",
              "      <style>\n",
              "    .colab-df-container {\n",
              "      display:flex;\n",
              "      flex-wrap:wrap;\n",
              "      gap: 12px;\n",
              "    }\n",
              "\n",
              "    .colab-df-convert {\n",
              "      background-color: #E8F0FE;\n",
              "      border: none;\n",
              "      border-radius: 50%;\n",
              "      cursor: pointer;\n",
              "      display: none;\n",
              "      fill: #1967D2;\n",
              "      height: 32px;\n",
              "      padding: 0 0 0 0;\n",
              "      width: 32px;\n",
              "    }\n",
              "\n",
              "    .colab-df-convert:hover {\n",
              "      background-color: #E2EBFA;\n",
              "      box-shadow: 0px 1px 2px rgba(60, 64, 67, 0.3), 0px 1px 3px 1px rgba(60, 64, 67, 0.15);\n",
              "      fill: #174EA6;\n",
              "    }\n",
              "\n",
              "    [theme=dark] .colab-df-convert {\n",
              "      background-color: #3B4455;\n",
              "      fill: #D2E3FC;\n",
              "    }\n",
              "\n",
              "    [theme=dark] .colab-df-convert:hover {\n",
              "      background-color: #434B5C;\n",
              "      box-shadow: 0px 1px 3px 1px rgba(0, 0, 0, 0.15);\n",
              "      filter: drop-shadow(0px 1px 2px rgba(0, 0, 0, 0.3));\n",
              "      fill: #FFFFFF;\n",
              "    }\n",
              "  </style>\n",
              "\n",
              "      <script>\n",
              "        const buttonEl =\n",
              "          document.querySelector('#df-afb3f83b-7a11-404c-bda2-52cd9e3e7fa9 button.colab-df-convert');\n",
              "        buttonEl.style.display =\n",
              "          google.colab.kernel.accessAllowed ? 'block' : 'none';\n",
              "\n",
              "        async function convertToInteractive(key) {\n",
              "          const element = document.querySelector('#df-afb3f83b-7a11-404c-bda2-52cd9e3e7fa9');\n",
              "          const dataTable =\n",
              "            await google.colab.kernel.invokeFunction('convertToInteractive',\n",
              "                                                     [key], {});\n",
              "          if (!dataTable) return;\n",
              "\n",
              "          const docLinkHtml = 'Like what you see? Visit the ' +\n",
              "            '<a target=\"_blank\" href=https://colab.research.google.com/notebooks/data_table.ipynb>data table notebook</a>'\n",
              "            + ' to learn more about interactive tables.';\n",
              "          element.innerHTML = '';\n",
              "          dataTable['output_type'] = 'display_data';\n",
              "          await google.colab.output.renderOutput(dataTable, element);\n",
              "          const docLink = document.createElement('div');\n",
              "          docLink.innerHTML = docLinkHtml;\n",
              "          element.appendChild(docLink);\n",
              "        }\n",
              "      </script>\n",
              "    </div>\n",
              "  </div>\n"
            ]
          },
          "metadata": {},
          "execution_count": 11
        }
      ]
    },
    {
      "cell_type": "code",
      "source": [
        "\n",
        "def gen_data(df,flag = True):\n",
        "\n",
        "    examples = []\n",
        "\n",
        "    n = len(df) if flag == True else 6\n",
        "\n",
        "    for i in range(0,n):\n",
        "\n",
        "        obj = {\n",
        "            \"requirements\" : list(df[\"RequirementText\"])[i],\n",
        "            \"categories\" : \"Functional\" if list(df[\"Binary_Label\"])[i] == 0 else \"Non Functional\"\n",
        "        }\n",
        "\n",
        "        examples.append(obj)\n",
        "\n",
        "\n",
        "    random.shuffle(examples)\n",
        "\n",
        "    return examples\n",
        "\n"
      ],
      "metadata": {
        "id": "SxOuUk3A5grZ"
      },
      "id": "SxOuUk3A5grZ",
      "execution_count": null,
      "outputs": []
    },
    {
      "cell_type": "code",
      "source": [
        "examples = gen_data(df_train,False)"
      ],
      "metadata": {
        "id": "c5K4a7LZ_3Y7"
      },
      "id": "c5K4a7LZ_3Y7",
      "execution_count": null,
      "outputs": []
    },
    {
      "cell_type": "code",
      "source": [
        "examples"
      ],
      "metadata": {
        "colab": {
          "base_uri": "https://localhost:8080/"
        },
        "id": "pJqtzX-gA6Ar",
        "outputId": "dbb7afcb-aefa-4d9e-c4bd-c7d1979e54f5"
      },
      "id": "pJqtzX-gA6Ar",
      "execution_count": null,
      "outputs": [
        {
          "output_type": "execute_result",
          "data": {
            "text/plain": [
              "[{'requirements': 'The Disputes applications shall interface with the Merchant Information Database. The Merchant Information Database provides detailed information with regard to the merchant. All merchant detail information shall be obtained from the Merchant Information Database.',\n",
              "  'categories': 'Non Functional'},\n",
              " {'requirements': 'The product shall display each type of ship in a grid using an image of the specific type of ship.',\n",
              "  'categories': 'Non Functional'},\n",
              " {'requirements': 'The users should be able to easily use the system to successfully complete their budgets  within the stipulated time for completion. With a week of training prior to product implementation  98% of the users shall complete their budgets within the stipulated time.',\n",
              "  'categories': 'Non Functional'},\n",
              " {'requirements': 'Can give feedback to the 24X7 Customer Care Service center about their impression for the site and services.',\n",
              "  'categories': 'Functional'},\n",
              " {'requirements': 'The system shall display only 10 matching result on the current screen.',\n",
              "  'categories': 'Functional'},\n",
              " {'requirements': 'The system shall allow user to choose their preferable topping.',\n",
              "  'categories': 'Functional'}]"
            ]
          },
          "metadata": {},
          "execution_count": 14
        }
      ]
    },
    {
      "cell_type": "code",
      "source": [
        "# prompt_template = '''\n",
        "# Text: {text}\n",
        "# {class}\n",
        "# '''\n",
        "\n",
        "# example_prompt = PromptTemplate(input_variables=[\"text\",\"class\"],template = prompt_template)\n",
        "\n",
        "# print(example_prompt.format(**examples[0]))\n",
        "\n",
        "\n",
        "prompt_template2 = '''\n",
        "Requirements: {requirements}\n",
        "Categories: {categories}\n",
        "'''\n",
        "\n",
        "example_prompt2 = PromptTemplate(input_variables=[\"requirements\",\"categories\"],template = prompt_template2)\n",
        "\n",
        "print(example_prompt2.format(**examples[0]))"
      ],
      "metadata": {
        "id": "4NPAkA8i5g1s",
        "colab": {
          "base_uri": "https://localhost:8080/"
        },
        "outputId": "b4e97357-dc18-4a9b-cdf9-91dbf08c23e6"
      },
      "id": "4NPAkA8i5g1s",
      "execution_count": null,
      "outputs": [
        {
          "output_type": "stream",
          "name": "stdout",
          "text": [
            "\n",
            "Requirements: The users should be able to easily use the system to successfully complete their budgets  within the stipulated time for completion. With a week of training prior to product implementation  98% of the users shall complete their budgets within the stipulated time.\n",
            "Categories: Non Functional\n",
            "\n"
          ]
        }
      ]
    },
    {
      "cell_type": "code",
      "source": [
        "\n",
        "\n",
        "\n",
        "final_prompt = FewShotPromptTemplate(\n",
        "    examples=examples,\n",
        "    example_prompt=example_prompt,\n",
        "    suffix= \"Text: {text}/n\",\n",
        "    input_variables=[\"text\"],\n",
        "    prefix= 'Classify the sentiment of the following text as \"Funtional\" or \"Non Funtional\"'\n",
        ")\n",
        "\n"
      ],
      "metadata": {
        "id": "z8KWyReB5g4Z"
      },
      "id": "z8KWyReB5g4Z",
      "execution_count": null,
      "outputs": []
    },
    {
      "cell_type": "code",
      "source": [
        "print(final_prompt.format(text =examples[3][\"text\"] ))"
      ],
      "metadata": {
        "colab": {
          "base_uri": "https://localhost:8080/"
        },
        "id": "FVcoqg-5FpCQ",
        "outputId": "9f7ba96a-b7f4-4fd2-f229-31e4d26bd482"
      },
      "id": "FVcoqg-5FpCQ",
      "execution_count": null,
      "outputs": [
        {
          "output_type": "stream",
          "name": "stdout",
          "text": [
            "Classify the sentiment of the following text as \"Funtional\" or \"Non Funtional\"\n",
            "\n",
            "\n",
            "Text: Recreation of Inventory Quantity Adjustment for the period of previous 30 days shall take no more than 30min.\n",
            "Non Functional\n",
            "\n",
            "\n",
            "\n",
            "Text: The estimator shall apply selected recycled parts to the collision estimate.\n",
            "Functional\n",
            "\n",
            "\n",
            "\n",
            "Text: Velkat staff will be available for phone support between 7am-7pm  M-F to provide technical support to the Izogn administrators.\n",
            "Non Functional\n",
            "\n",
            "\n",
            "\n",
            "Text: When the hit results in sinking a ship  the product shall mark the ship as sunk on the defensive grid of the defensive player.\n",
            "Functional\n",
            "\n",
            "\n",
            "\n",
            "Text: Unauthorised users can only read data without modifying anything.\n",
            "Non Functional\n",
            "\n",
            "\n",
            "\n",
            "Text: Each account must have a separate identifying account number.\n",
            "Functional\n",
            "\n",
            "\n",
            "Text: When the hit results in sinking a ship  the product shall mark the ship as sunk on the defensive grid of the defensive player./n\n"
          ]
        }
      ]
    },
    {
      "cell_type": "code",
      "source": [
        "llm = OpenAI(temperature=0.2)"
      ],
      "metadata": {
        "id": "ThlId6yZExX9"
      },
      "id": "ThlId6yZExX9",
      "execution_count": null,
      "outputs": []
    },
    {
      "cell_type": "code",
      "source": [
        "print(llm)"
      ],
      "metadata": {
        "colab": {
          "base_uri": "https://localhost:8080/"
        },
        "id": "WNLV6RuQEy-8",
        "outputId": "4df20e7e-a076-4664-88a2-49b3c39e6398"
      },
      "id": "WNLV6RuQEy-8",
      "execution_count": null,
      "outputs": [
        {
          "output_type": "stream",
          "name": "stdout",
          "text": [
            "\u001b[1mOpenAI\u001b[0m\n",
            "Params: {'model_name': 'text-davinci-003', 'temperature': 0.2, 'max_tokens': 256, 'top_p': 1, 'frequency_penalty': 0, 'presence_penalty': 0, 'n': 1, 'request_timeout': None, 'logit_bias': {}}\n"
          ]
        }
      ]
    },
    {
      "cell_type": "code",
      "source": [
        "extraction_chain = LLMChain(llm = llm , prompt = final_prompt , output_key= \"class\" )"
      ],
      "metadata": {
        "id": "TLQgqdSV5g-L"
      },
      "id": "TLQgqdSV5g-L",
      "execution_count": null,
      "outputs": []
    },
    {
      "cell_type": "markdown",
      "source": [
        "# Prediction\n",
        "\n",
        "# Using few shot learning with my default prompt templete"
      ],
      "metadata": {
        "id": "uvyvfLqRGWme"
      },
      "id": "uvyvfLqRGWme"
    },
    {
      "cell_type": "code",
      "source": [
        "val = gen_data(df_val)"
      ],
      "metadata": {
        "id": "nnd6laviBxeL"
      },
      "id": "nnd6laviBxeL",
      "execution_count": null,
      "outputs": []
    },
    {
      "cell_type": "code",
      "source": [
        "val"
      ],
      "metadata": {
        "colab": {
          "base_uri": "https://localhost:8080/"
        },
        "id": "wPFCpPkmCKXj",
        "outputId": "1c731e85-d70e-46d3-df7a-bef709a85588"
      },
      "id": "wPFCpPkmCKXj",
      "execution_count": null,
      "outputs": [
        {
          "output_type": "execute_result",
          "data": {
            "text/plain": [
              "[{'requirements': 'The product shall have a consistent color scheme and fonts.',\n",
              "  'categories': 'Non Functional'},\n",
              " {'requirements': 'All updates to data files or database must be initiated from the Disputes System.',\n",
              "  'categories': 'Non Functional'},\n",
              " {'requirements': 'Website must be able to support free trial periods with various parameters set by the Izogn Manager.',\n",
              "  'categories': 'Functional'},\n",
              " {'requirements': 'Only authorized users shall have access to students\\\\92 personal information.',\n",
              "  'categories': 'Non Functional'},\n",
              " {'requirements': 'The system shall support the ability to perform a send and receive operation.',\n",
              "  'categories': 'Functional'},\n",
              " {'requirements': 'All letter requests must be formatted according to guidelines specified by the Print Letter Utility system.',\n",
              "  'categories': 'Functional'},\n",
              " {'requirements': 'The system shall be able to display a report of needed classes for a given quarter for all cohorts of all programs for Program Administrators/Nursing Staff Members\\\\92 planning purposes.',\n",
              "  'categories': 'Functional'},\n",
              " {'requirements': 'The product shall comply with corporate User Interface Guidelines',\n",
              "  'categories': 'Non Functional'},\n",
              " {'requirements': 'The system shall allow the administrator to remove equipment.',\n",
              "  'categories': 'Functional'},\n",
              " {'requirements': 'The product shall comply with insurance regulations regarding claims processing.',\n",
              "  'categories': 'Non Functional'},\n",
              " {'requirements': 'The meeting scheduler system may (optionally) automatically propose another meeting if current meeting is canceled by an important participant.',\n",
              "  'categories': 'Functional'},\n",
              " {'requirements': 'The system shall notify the user about any changes made to the order.',\n",
              "  'categories': 'Functional'},\n",
              " {'requirements': 'No lead evaluation will complete in a time period longer than 25 seconds for 97% of all leads processed.',\n",
              "  'categories': 'Non Functional'},\n",
              " {'requirements': 'The product shall be able to display calendar dates and times according to the user\\\\92s locale.  90% of survey respondents from each target market country will find that the date and time formatting of the product is correct.',\n",
              "  'categories': 'Non Functional'},\n",
              " {'requirements': 'The product shall free of computer viruses.',\n",
              "  'categories': 'Non Functional'},\n",
              " {'requirements': 'The Disputes System shall provide view access capability for authorized users of the application.',\n",
              "  'categories': 'Functional'},\n",
              " {'requirements': 'The product shall increase productivity of Collision Estimators. 80% of the Collision Estimators shall agree their productivity has increase within 1 month of using the product.',\n",
              "  'categories': 'Non Functional'},\n",
              " {'requirements': 'The website shall not be offensive to religious or ethnic groups.',\n",
              "  'categories': 'Non Functional'},\n",
              " {'requirements': 'Sensitive data will be encrypted before being sent over insecure connections like the internet.',\n",
              "  'categories': 'Non Functional'},\n",
              " {'requirements': 'The system shall support the ability to perform a receive only operation.',\n",
              "  'categories': 'Functional'},\n",
              " {'requirements': 'User access should be limited to the permissions granted to their role(s) Each level in the PCG hierarchy will be assigned a role and users will be assigned to these roles. Access to functionality within RFS system is dependent on the privileges/permission assigned to the role..',\n",
              "  'categories': 'Non Functional'},\n",
              " {'requirements': 'The system should take the customer name.',\n",
              "  'categories': 'Functional'},\n",
              " {'requirements': 'Customer must logout of the site after purchasing products.',\n",
              "  'categories': 'Functional'},\n",
              " {'requirements': 'The text and time/date of a note that has been entered is displayed starting with most recent.',\n",
              "  'categories': 'Functional'},\n",
              " {'requirements': 'Changes made to the Manage My ID website can be adopted without altering the iOS application.',\n",
              "  'categories': 'Non Functional'},\n",
              " {'requirements': 'The Disputes application shall interface with the Cardmember Posting and Billing System.  This will allow the Disputes application to request adjustments to cardmember and merchant\\\\92s accounts. All adjustment requests must be sent to the Cardmember Posting and Billing System.',\n",
              "  'categories': 'Non Functional'},\n",
              " {'requirements': 'The system shall provide browsing options to see product details.',\n",
              "  'categories': 'Functional'},\n",
              " {'requirements': 'The system shall be able to display a printable summary for individual clinical labs  which will include (but not be limited to) class name  class number  lab section  listing of students enrolled  instructor  day(s)  time  and location.',\n",
              "  'categories': 'Functional'},\n",
              " {'requirements': 'Registered User must be able to maintain his/her session information for at least 60 minutes of inactive session before the system prompts him to log out of the system. The registered user must be provided with all the options of the E-store regardless of the time when he/she logs in.',\n",
              "  'categories': 'Functional'},\n",
              " {'requirements': 'The Disputes System shall provide update access capability for authorized users of the application.',\n",
              "  'categories': 'Functional'},\n",
              " {'requirements': 'The performance shall depend upon hardware components of the client/customer.',\n",
              "  'categories': 'Non Functional'},\n",
              " {'requirements': \"The customer's web browser shall never display a customer's password.  It shall always be echoed with special characters representing typed characters.\",\n",
              "  'categories': 'Non Functional'},\n",
              " {'requirements': 'Website shall allow customers to add their own movie review for a selected movie.',\n",
              "  'categories': 'Functional'},\n",
              " {'requirements': 'All the functions of the system must be available to the user every time the system is turned on.',\n",
              "  'categories': 'Non Functional'},\n",
              " {'requirements': 'A display shall not require a user to log in.',\n",
              "  'categories': 'Non Functional'},\n",
              " {'requirements': 'System will use secured database',\n",
              "  'categories': 'Non Functional'},\n",
              " {'requirements': 'Izogn Administrator must be able to update the category listings on the website within 2 minutes.',\n",
              "  'categories': 'Non Functional'},\n",
              " {'requirements': 'The system shall send an order confirmation to the user through email.',\n",
              "  'categories': 'Functional'},\n",
              " {'requirements': ' The Disputes application shall be available 24x7x365  with the exception of the following scheduled maintenance windows.  Monday \\\\96 Saturday 3:00am to 4:00am EST Sunday 1:00amd to 5:00am EST',\n",
              "  'categories': 'Non Functional'},\n",
              " {'requirements': 'The system shall only be accessed by authorized Corporate Community Grants (CCR) employees. Users must be authenticated using their IBM intranet user name and password.',\n",
              "  'categories': 'Non Functional'},\n",
              " {'requirements': 'All additions of new users and modifications to user\\\\92s access shall be recorded on the User Report.',\n",
              "  'categories': 'Non Functional'},\n",
              " {'requirements': 'The system shall use secure socket layer (SSL) technology to ensure all payments made online and user logins are secure.',\n",
              "  'categories': 'Non Functional'},\n",
              " {'requirements': 'Enable a registered user to view his profile. Additional information viz. questions asked by him and answers posted by him are also displayed.',\n",
              "  'categories': 'Functional'},\n",
              " {'requirements': 'The product shall allow the user to view previously downloaded search results CMA reports  and appointments.',\n",
              "  'categories': 'Non Functional'},\n",
              " {'requirements': 'A new user shall be able to navigate through the league and team pages within 30 seconds of reaching the start-up page.',\n",
              "  'categories': 'Non Functional'},\n",
              " {'requirements': 'The product shall make inactive players unavailable for selection from the list of players.',\n",
              "  'categories': 'Functional'},\n",
              " {'requirements': 'Fit Criterion: Dr Susan Poslusny and Karen Sysol are the only people who shall have access to the final class section scheduling for the system that interfaces with CampusConnect.',\n",
              "  'categories': 'Non Functional'},\n",
              " {'requirements': 'The system shall be able to display a menu at all times to facilitate manual order taking should the need arise.',\n",
              "  'categories': 'Non Functional'},\n",
              " {'requirements': 'The system should ask the user to key in the pickup date.',\n",
              "  'categories': 'Functional'},\n",
              " {'requirements': 'The system shall allow the user to scroll the campus map from the campus map tab.',\n",
              "  'categories': 'Non Functional'},\n",
              " {'requirements': 'All users of the system shall login using some form of unique identification.',\n",
              "  'categories': 'Non Functional'},\n",
              " {'requirements': 'The system should have to keep the location where the doughnut will be send.',\n",
              "  'categories': 'Non Functional'},\n",
              " {'requirements': 'A list of available patients is displayed after login.',\n",
              "  'categories': 'Functional'},\n",
              " {'requirements': 'The product will require collaboration with a database management system (DBMS).  The DBMS may be located on the same machine as the product or on a separate machine residing on the same computer network.',\n",
              "  'categories': 'Non Functional'},\n",
              " {'requirements': 'Program Administrators/Nursing Staff Members are the only people who shall have access to clinical site details.',\n",
              "  'categories': 'Non Functional'},\n",
              " {'requirements': 'The product shall run on the existing hardware for all environments.',\n",
              "  'categories': 'Non Functional'},\n",
              " {'requirements': 'The product is Web based therefore it will be used in any environment that allows Web access.',\n",
              "  'categories': 'Non Functional'},\n",
              " {'requirements': 'The leads washing functionality will verify the users authentication and rights to make parameter updates.',\n",
              "  'categories': 'Functional'},\n",
              " {'requirements': 'A secondary database will be used to store historical statistics and data.',\n",
              "  'categories': 'Non Functional'},\n",
              " {'requirements': 'The RFS system should be available 24/7  especially during the budgeting period. The RFS system shall be available 90% of the time all year  and 98% during the budgeting period. 2% of the time  the system will become available within 1 hour of the time that the situation is reported.',\n",
              "  'categories': 'Non Functional'},\n",
              " {'requirements': 'The system shall allow users to view location information.',\n",
              "  'categories': 'Functional'},\n",
              " {'requirements': \"The system's back-end servers shall only be accessible to authenticated administrators.\",\n",
              "  'categories': 'Non Functional'},\n",
              " {'requirements': 'System shall let administrators generate unique pre-paid pins in under 2 minutes and generate an Excel file with the generated PINs.',\n",
              "  'categories': 'Non Functional'},\n",
              " {'requirements': 'The Operational Interface shall have a Mean Time Between Failures of no less than 7 days.',\n",
              "  'categories': 'Non Functional'},\n",
              " {'requirements': 'The product shall be able to handle 10 000 concurrent users within 2 years of the initial launch.',\n",
              "  'categories': 'Non Functional'},\n",
              " {'requirements': 'The system shall notify the user of any schedule changes.',\n",
              "  'categories': 'Functional'},\n",
              " {'requirements': 'The Disputes application shall comply with the corporate standards for user interface creation for internally and externally used applications.',\n",
              "  'categories': 'Non Functional'},\n",
              " {'requirements': 'The system shall link Events back to either the Sync Matrix 1.0 or the Exercise Managment Tool 1.0 applications for modifications.',\n",
              "  'categories': 'Functional'},\n",
              " {'requirements': 'The System shall generate Inventory Quantity Adjustment document based on product daily sales data and product formulas.',\n",
              "  'categories': 'Functional'},\n",
              " {'requirements': 'The audit report shall include the number of available recycled parts from the original search results.',\n",
              "  'categories': 'Functional'},\n",
              " {'requirements': 'The product shall allow a user to identify himself or herself as a player.',\n",
              "  'categories': 'Functional'},\n",
              " {'requirements': 'The product shall have an intuitive user interface.',\n",
              "  'categories': 'Functional'},\n",
              " {'requirements': 'The product shall have the ability to send meeting reminders to employees.',\n",
              "  'categories': 'Functional'},\n",
              " {'requirements': 'The product shall provide GUI based Monitoring Services.System Administrators shall monitor message exchanges will predict and determine problems and will also provide internal and external support.',\n",
              "  'categories': 'Non Functional'},\n",
              " {'requirements': 'The system shall allow the user to modify the date exclusion set of an already submitted meeting response.',\n",
              "  'categories': 'Functional'},\n",
              " {'requirements': 'The system should be simple to use',\n",
              "  'categories': 'Non Functional'},\n",
              " {'requirements': 'Maintenance releases will be offered to customers once a year.  The releases shall take no longer than 5 minutes for 80% of the customer base to install.',\n",
              "  'categories': 'Non Functional'},\n",
              " {'requirements': 'The system shall allow user to confirm the completion of current configuration.',\n",
              "  'categories': 'Functional'},\n",
              " {'requirements': 'System shall automatically update the main page of the website every Friday  and show the 4 latest movies that have been added to the website.',\n",
              "  'categories': 'Functional'},\n",
              " {'requirements': 'The MTBF (if any) should not be less than 2 months.',\n",
              "  'categories': 'Non Functional'},\n",
              " {'requirements': 'The WCS system must run queries to the WCS databases once again (on a specified day) to update the available data available to CCR users. Queries must be made to external databases for data refresh once a week.',\n",
              "  'categories': 'Non Functional'},\n",
              " {'requirements': 'The system shall allow the administrator to install additional distributed location templates.',\n",
              "  'categories': 'Functional'},\n",
              " {'requirements': 'Program Administrators and Nursing Staff Members shall be able to add new classes for the nursing department into the system.',\n",
              "  'categories': 'Functional'},\n",
              " {'requirements': 'The system should use the company colors and logos.',\n",
              "  'categories': 'Non Functional'},\n",
              " {'requirements': 'The product shall notify building personnel of equipment transport requests.',\n",
              "  'categories': 'Functional'},\n",
              " {'requirements': 'The product shall continue to operate during upgrade  change or new resource addition.The product shall be able to continue to operate with no interruption in service due to new resource additions.',\n",
              "  'categories': 'Non Functional'},\n",
              " {'requirements': 'The product shall prevent its data from incorrect data being introduced.',\n",
              "  'categories': 'Non Functional'},\n",
              " {'requirements': 'The system shall be able to call the seller or buyer to schedule an appointment',\n",
              "  'categories': 'Functional'},\n",
              " {'requirements': \"Responsible for informing administrator when any product item's stock goes under the minimum level.\",\n",
              "  'categories': 'Functional'},\n",
              " {'requirements': 'When the hit results in sinking a ship  the product shall mark the ship as sunk on the defensive grid of the defensive player.',\n",
              "  'categories': 'Functional'},\n",
              " {'requirements': 'Recreation of Inventory Quantity Adjustment for the period of previous 30 days shall take no more than 30min.',\n",
              "  'categories': 'Non Functional'},\n",
              " {'requirements': 'The RMS System shall have Windows XP look and feel and use GUI futures making its use intuitive.',\n",
              "  'categories': 'Functional'},\n",
              " {'requirements': 'The system shall allow the mediator to send and receive messages from users.',\n",
              "  'categories': 'Functional'},\n",
              " {'requirements': 'System shall let customers register on the website as a \\\\93pay as you go\\\\94 user in under 5 minutes.',\n",
              "  'categories': 'Non Functional'},\n",
              " {'requirements': 'System shall let customers cancel their account  process shall take no longer than 2 minutes.  Database will mark the account as inactive  and user will not be able to log into the website.',\n",
              "  'categories': 'Non Functional'},\n",
              " {'requirements': 'The system will develop a security system that will reduce to the minimum the possibility of corruption from systems and/or humans.',\n",
              "  'categories': 'Non Functional'},\n",
              " {'requirements': 'The meeting scheduler system shall cancel a meeting due to canceling of an important participant.',\n",
              "  'categories': 'Functional'},\n",
              " {'requirements': 'The search for the preferred repair facility shall take no longer than 8 seconds.  The preferred repair facility is returned within 8 seconds',\n",
              "  'categories': 'Non Functional'},\n",
              " {'requirements': ' Each time a conference room is reserved  the conference room schedule shall be updated to reflect the time and date of the reservation.',\n",
              "  'categories': 'Functional'},\n",
              " {'requirements': 'The product shall conform to the Americans with Disabilities Act.',\n",
              "  'categories': 'Non Functional'},\n",
              " {'requirements': 'Each page shall contain a navigation menu which shows the index into which the current page is contained.',\n",
              "  'categories': 'Non Functional'},\n",
              " {'requirements': 'Normal users can just read information but they cannot edit or modify anything except their personal and some other information.',\n",
              "  'categories': 'Non Functional'},\n",
              " {'requirements': 'The system should need to be entirely self-supporting since the users would be using it only to register courses.',\n",
              "  'categories': 'Non Functional'},\n",
              " {'requirements': 'The system shall optionally allow user to print the invoice.',\n",
              "  'categories': 'Functional'},\n",
              " {'requirements': 'The system shall be available for use between the hours of 8am and 6pm.',\n",
              "  'categories': 'Non Functional'},\n",
              " {'requirements': 'Information should be tagged according to who is entering the data.',\n",
              "  'categories': 'Functional'},\n",
              " {'requirements': 'The system shall provide a digital image for each product in the product catalog.',\n",
              "  'categories': 'Non Functional'},\n",
              " {'requirements': 'The same hardware supporting the current website will be used to support the new system.',\n",
              "  'categories': 'Non Functional'},\n",
              " {'requirements': 'The system shall allow user to select the financing option.',\n",
              "  'categories': 'Functional'},\n",
              " {'requirements': 'The system shall allow the mediator to negotiate a meeting date.',\n",
              "  'categories': 'Functional'},\n",
              " {'requirements': 'The product shall be supported using the corporate support center.',\n",
              "  'categories': 'Non Functional'},\n",
              " {'requirements': 'The product shall be available for distribution as a packaged CD.',\n",
              "  'categories': 'Non Functional'},\n",
              " {'requirements': 'To prevent attacks the system should generate random word and ask the user to enter it correctly for multiple tryings.',\n",
              "  'categories': 'Non Functional'},\n",
              " {'requirements': 'The user must be able to add photos from his/her photo library to his/her medical record.',\n",
              "  'categories': 'Functional'},\n",
              " {'requirements': 'The product interface should be fast. The response time of the product interface should not exceed 2 seconds 90% of the time. For 10% of the time  the response time should not be more than 10 seconds.not be more than 10 seconds.',\n",
              "  'categories': 'Non Functional'},\n",
              " {'requirements': 'Each user shall either be trusted or not trusted.',\n",
              "  'categories': 'Non Functional'},\n",
              " {'requirements': 'The website will comply with W3C standards.',\n",
              "  'categories': 'Non Functional'},\n",
              " {'requirements': 'Program Administrators/Nursing Staff Members shall have the ability to modify information relating to cohorts including cohort identifier  program of study  preferred sequence of classes and quarters that a cohort will be taking specific classes.',\n",
              "  'categories': 'Functional'},\n",
              " {'requirements': \"The system should not leave any cookies on the customer's computer containing the user's password.\",\n",
              "  'categories': 'Non Functional'},\n",
              " {'requirements': \"A secure server will be required to ensure confidentiality of customer's credit card and other details.\",\n",
              "  'categories': 'Non Functional'},\n",
              " {'requirements': 'When a ship is sunk  the product shall simulate the sound of a sinking ship.',\n",
              "  'categories': 'Non Functional'},\n",
              " {'requirements': 'The system shall allow the mediator to solve a location conflict.',\n",
              "  'categories': 'Functional'},\n",
              " {'requirements': 'The system will use the stored e-mail addresses as a primary means of communicating information to affected parties.',\n",
              "  'categories': 'Functional'},\n",
              " {'requirements': 'The system shall allow users to view information concerning the available distributed location templates(if any).',\n",
              "  'categories': 'Functional'},\n",
              " {'requirements': 'All Web pages generated by the system shall be fully downloadable in no more than 10 seconds over a 40KBps modem connection.',\n",
              "  'categories': 'Non Functional'},\n",
              " {'requirements': 'The system shall be available 99.5% of the time.',\n",
              "  'categories': 'Non Functional'},\n",
              " {'requirements': 'Responsible for managing stocks of each product items.',\n",
              "  'categories': 'Functional'},\n",
              " {'requirements': 'An anonymous survey will show that 70% of customers are comfortable purchasing streaming movies after 2 weeks using the website.',\n",
              "  'categories': 'Non Functional'},\n",
              " {'requirements': 'A Program Administrator/Nursing Staff Member shall be able to add a new nursing student to the system.',\n",
              "  'categories': 'Functional'},\n",
              " {'requirements': 'The user interface shall have standard menus buttons for navigation',\n",
              "  'categories': 'Non Functional'},\n",
              " {'requirements': 'The product shall maintain the status of each player for a turn  either offensive or defensive.',\n",
              "  'categories': 'Functional'},\n",
              " {'requirements': 'New System version releases shall be released at the beginning of each NFL season.',\n",
              "  'categories': 'Non Functional'},\n",
              " {'requirements': 'Aside from server failure  the software product shall achieve 99.99% up time.',\n",
              "  'categories': 'Non Functional'},\n",
              " {'requirements': 'For the system to successfully operate the registration system should be integrated with other IT services and the portal.',\n",
              "  'categories': 'Non Functional'},\n",
              " {'requirements': 'Secure data transfer over the Internet could be provided using SSL encryption that will be configured by the host system administrator.',\n",
              "  'categories': 'Non Functional'},\n",
              " {'requirements': 'The system shall interface with CampusConnect\\\\92s central server',\n",
              "  'categories': 'Non Functional'},\n",
              " {'requirements': 'The product will allow priviledged users to view meeting schedules in multiple reporting views.',\n",
              "  'categories': 'Functional'},\n",
              " {'requirements': \"The customer's web browser shall never display a customer's credit card number after retrieving from the database.  It shall always be shown with just the last 4 digits of the credit card number.\",\n",
              "  'categories': 'Non Functional'},\n",
              " {'requirements': 'The system may be throttled or slowed down on heavy loads to ensure service for everybody. By throttling is meant that certain functionality may be unavailable during heavy server load.',\n",
              "  'categories': 'Non Functional'},\n",
              " {'requirements': 'The system shall allow user to view detailed sitemap.',\n",
              "  'categories': 'Functional'},\n",
              " {'requirements': 'The user must be able to set an option to hide information based on who has tagged it.',\n",
              "  'categories': 'Functional'},\n",
              " {'requirements': 'The product must support Internet Explorer 5.5 and above.',\n",
              "  'categories': 'Non Functional'},\n",
              " {'requirements': 'The system shall be used within the specifications defined by the computers used by the Program Administrators/Nursing Staff Members.',\n",
              "  'categories': 'Non Functional'},\n",
              " {'requirements': 'Product installations and upgrades shall be handled by the middleware technology team within established launch time frames.',\n",
              "  'categories': 'Non Functional'},\n",
              " {'requirements': 'View the details of all employees and control the whole site.',\n",
              "  'categories': 'Functional'},\n",
              " {'requirements': 'A list of all disputes cases that meet the entered search criteria must be provided to the user.  The list of cases must differentiate the type and/or status of the case by color -coding the line item in the list.  For example all open cases will be yellow and all closed cases will be gray.',\n",
              "  'categories': 'Functional'},\n",
              " {'requirements': 'Authenticate and Login user to the web app.',\n",
              "  'categories': 'Functional'},\n",
              " {'requirements': 'The System shall generate Inventory Quantity Adjustment document automatically when daily Product Sales data is available.',\n",
              "  'categories': 'Functional'},\n",
              " {'requirements': 'It must allow a user to download a backup of their medical information.',\n",
              "  'categories': 'Functional'},\n",
              " {'requirements': 'The system shall display Events or Activities.',\n",
              "  'categories': 'Functional'},\n",
              " {'requirements': 'System shall let Izogn Manager access sales and usage statistics in under 2 minutes.',\n",
              "  'categories': 'Non Functional'},\n",
              " {'requirements': 'The system shall allow user to decorate their doughnut.',\n",
              "  'categories': 'Functional'},\n",
              " {'requirements': 'The meeting scheduler system may be able to include a list of required equipment for a meeting proposal.',\n",
              "  'categories': 'Functional'},\n",
              " {'requirements': 'Defect reports will be available to technical units on a 24x7 basis.',\n",
              "  'categories': 'Non Functional'},\n",
              " {'requirements': 'When a shot is marked as a miss  the product shall simulate the sound of a shot missing its target.',\n",
              "  'categories': 'Non Functional'},\n",
              " {'requirements': 'The WCS system shall use appropriate nomenclature and terminology as defined by the Corporate Community Grants organization. All interfaces and reports will undergo usability tests by CCR users.',\n",
              "  'categories': 'Non Functional'},\n",
              " {'requirements': 'The application shall match the color of the schema set forth by Department of Homeland Security',\n",
              "  'categories': 'Non Functional'},\n",
              " {'requirements': 'Patrons shall log in according to the restricted computer system access policy.',\n",
              "  'categories': 'Non Functional'},\n",
              " {'requirements': 'The system shall be built such that it is as secure as possible from malicious interference.',\n",
              "  'categories': 'Non Functional'},\n",
              " {'requirements': 'The meeting scheduler system may suggest a \"virtual meeting\"for available \"time slots\"if no location is available or feasible for the meeting.',\n",
              "  'categories': 'Functional'},\n",
              " {'requirements': 'A non-clinical class shall specify the course name  lecture room requirements  and instructor needs.',\n",
              "  'categories': 'Functional'},\n",
              " {'requirements': 'The user shall select to view the preferred repair facility ratings.',\n",
              "  'categories': 'Functional'},\n",
              " {'requirements': 'The system shall allow user to create profile and set his credential.',\n",
              "  'categories': 'Functional'},\n",
              " {'requirements': 'The system shall allow the user to modify the equipment requirement set of an already submitted meeting response.',\n",
              "  'categories': 'Functional'},\n",
              " {'requirements': 'All changes  updates  and additions to the WCS system shall be updated in the WCS Developer and WCS User Guides. Every change must be reflected in WCS system documentation',\n",
              "  'categories': 'Non Functional'},\n",
              " {'requirements': 'The product shall have security.The product shall provide authentication  and authorization.',\n",
              "  'categories': 'Non Functional'},\n",
              " {'requirements': 'The system shall update or create new property listings in the MLS',\n",
              "  'categories': 'Functional'},\n",
              " {'requirements': 'The system shall be easy to use by the Program Administrators/Nursing Staff Members.',\n",
              "  'categories': 'Non Functional'},\n",
              " {'requirements': 'The system shall display the most frequently searched items by the user in the profile.',\n",
              "  'categories': 'Functional'},\n",
              " {'requirements': 'The product shall allow for customization of start page and views preferences.',\n",
              "  'categories': 'Non Functional'},\n",
              " {'requirements': 'The product must work with most database management systems (DBMS) on the market  whether the DBMS is colocated with the product on the same machine or is located on a different machine on the computer network.',\n",
              "  'categories': 'Non Functional'},\n",
              " {'requirements': 'The available server must be reliable and the network connectivity in the supermarket should be proper for smooth flow of all operations and data.',\n",
              "  'categories': 'Non Functional'},\n",
              " {'requirements': 'The system will fully function in major browsers.',\n",
              "  'categories': 'Non Functional'},\n",
              " {'requirements': 'The system shall display tax information for the order.',\n",
              "  'categories': 'Functional'},\n",
              " {'requirements': 'Only authorized personnel can access customer records in the database.',\n",
              "  'categories': 'Non Functional'},\n",
              " {'requirements': 'All screens created as part of the Disputes application must comply with corporate standards for interface creation.',\n",
              "  'categories': 'Non Functional'},\n",
              " {'requirements': 'Enable a logged in user to up vote and down vote answers.',\n",
              "  'categories': 'Functional'},\n",
              " {'requirements': 'The product shall retain user preferences in the event of a failure.',\n",
              "  'categories': 'Non Functional'},\n",
              " {'requirements': 'A meeting scheduler system will inform the \"potential meeting participant\"of the meeting.',\n",
              "  'categories': 'Functional'},\n",
              " {'requirements': 'The leads washing functionality shall receive a period list of available reps from the enterprise system.',\n",
              "  'categories': 'Functional'},\n",
              " {'requirements': 'The product will update existing room equipment.',\n",
              "  'categories': 'Functional'},\n",
              " {'requirements': 'Administrator shall be able to activate a pre-paid card via the Administration section in under 5 seconds.',\n",
              "  'categories': 'Non Functional'},\n",
              " {'requirements': 'When the hit results in sinking a ship  the product shall notify the players that the ship was sunk.',\n",
              "  'categories': 'Functional'},\n",
              " {'requirements': 'On a 56k connection  the system response time for all operations must be no more than 6 seconds 90% of the time.',\n",
              "  'categories': 'Non Functional'},\n",
              " {'requirements': 'The WCS system shall have the ability to include data for regions outside the United States and be accessed by users outside of the United States if approved by CCR management.',\n",
              "  'categories': 'Non Functional'},\n",
              " {'requirements': 'Product shall allow entering  storing and modifying product menus used by POS terminals.',\n",
              "  'categories': 'Functional'},\n",
              " {'requirements': 'The product shall be intuitive and self-explanatory.  Nine out ten users shall be able to successfully complete a game with no training.',\n",
              "  'categories': 'Non Functional'},\n",
              " {'requirements': 'The product shall ensure that only supervisors can advertise empty time slots.The product must ensure that supervisors are allowed to access advertise empty time slots.',\n",
              "  'categories': 'Non Functional'},\n",
              " {'requirements': '98% of the user workstations shall meet the minimum software requirements prior to implementation: Microsoft Internet Explorer 5.0. Microsoft .NET Framework 1.1. Microsoft Internet Explorer Web Controls',\n",
              "  'categories': 'Non Functional'},\n",
              " {'requirements': 'The system shall flag tablets that fail to send timely keep-alive messages as non-operational and disassociate the assigned waiter from the tablet.',\n",
              "  'categories': 'Non Functional'},\n",
              " {'requirements': 'The system shall be responsive. At the DePaul TeleServices Center  when a supervisor uses the system to view a callers schedule  the system response time must be no more than 2 seconds 90% of the time and no more than 5 seconds the rest of the time.',\n",
              "  'categories': 'Non Functional'},\n",
              " {'requirements': 'For each class within a sequence for a cohort  Program Administrators and Nursing Staff Members shall be able to specify which quarter that class will be offered.',\n",
              "  'categories': 'Functional'},\n",
              " {'requirements': 'When a game is ended  the product shall allow each player to identify himself or herself as an available player in the list of players.',\n",
              "  'categories': 'Functional'},\n",
              " {'requirements': 'The product shall information Security. The product shall enable privacy by encryption WS-Security and Integrity Checking.',\n",
              "  'categories': 'Non Functional'}]"
            ]
          },
          "metadata": {},
          "execution_count": 16
        }
      ]
    },
    {
      "cell_type": "code",
      "source": [
        "def trim(s):\n",
        "\n",
        "    s = s.replace(\"-\", \" \").replace(\"_\", \" \")\n",
        "\n",
        "    pattern = r'(Functional|Non Functional)'\n",
        "\n",
        "    matches = re.findall(pattern, s)\n",
        "\n",
        "    return matches[0].strip()\n",
        "\n",
        "\n",
        "\n",
        "\n",
        "def eval(extraction_chain, example,s = 40 , few_shot = True):\n",
        "\n",
        "    preds = []\n",
        "    actual = []\n",
        "\n",
        "    for x in tqdm(example):\n",
        "\n",
        "        time.sleep(s)\n",
        "\n",
        "        if(few_shot):\n",
        "\n",
        "            p = extraction_chain.predict(requirements = x[\"requirements\"] )\n",
        "\n",
        "        else:\n",
        "\n",
        "            p = extraction_chain.run(x[\"requirements\"] )\n",
        "\n",
        "\n",
        "\n",
        "        p = trim(p)\n",
        "\n",
        "        a = x[\"categories\"]\n",
        "\n",
        "        preds.append(p)\n",
        "        actual.append(a)\n",
        "\n",
        "    # print(preds)\n",
        "    # print(actual)\n",
        "\n",
        "    return preds,actual, accuracy_score(actual, preds)\n"
      ],
      "metadata": {
        "id": "rxMl2rV3CPHz"
      },
      "id": "rxMl2rV3CPHz",
      "execution_count": null,
      "outputs": []
    },
    {
      "cell_type": "code",
      "source": [
        "preds,actual,acc = eval(extraction_chain,val)"
      ],
      "metadata": {
        "colab": {
          "base_uri": "https://localhost:8080/"
        },
        "id": "vLyLCCdqE-rK",
        "outputId": "b5a8eb62-bd6a-47dc-a590-e7a2325bede1"
      },
      "id": "vLyLCCdqE-rK",
      "execution_count": null,
      "outputs": [
        {
          "output_type": "stream",
          "name": "stderr",
          "text": [
            "100%|██████████| 194/194 [1:38:33<00:00, 30.48s/it]\n"
          ]
        }
      ]
    },
    {
      "cell_type": "code",
      "source": [
        "acc"
      ],
      "metadata": {
        "colab": {
          "base_uri": "https://localhost:8080/"
        },
        "id": "Xrz7Qr_iIJ09",
        "outputId": "fcdf564a-792f-419c-8b76-4b9184ab50cf"
      },
      "id": "Xrz7Qr_iIJ09",
      "execution_count": null,
      "outputs": [
        {
          "output_type": "execute_result",
          "data": {
            "text/plain": [
              "0.7628865979381443"
            ]
          },
          "metadata": {},
          "execution_count": 148
        }
      ]
    },
    {
      "cell_type": "markdown",
      "source": [
        "# Prediction\n",
        "\n",
        "# Using few shot learning with more defined prompt templete"
      ],
      "metadata": {
        "id": "sfGw7kAufkcc"
      },
      "id": "sfGw7kAufkcc"
    },
    {
      "cell_type": "code",
      "source": [
        "final_prompt = FewShotPromptTemplate(\n",
        "    examples=examples,\n",
        "    example_prompt=example_prompt2,\n",
        "    suffix= \"\"\"Requirements: {requirements} \\nCategories: \"\"\",\n",
        "    input_variables=[\"requirements\"],\n",
        "    prefix= \"\"\"You are a requirements analyst. Classify the given software requirements as \"Functional\" or \"Non Functional\" categories. Please read each requirement carefully and determine its classification based on the definitions provided below.\n",
        "\n",
        "                <Functional>: Fairness in the context of business and service agreements refers to the equitable and just treatment of all parties involved, ensuring that no party is disadvantaged or treated unfairly due to factors such as bias, discrimination, or arbitrary decision-making. It involves maintaining a balanced and transparent approach throughout the negotiation, execution, and fulfillment of agreements, with the aim of upholding ethical principles and preventing undue advantages or disadvantages.\n",
        "\n",
        "                <Non-Functional>: Unfairness in the context of business and service agreements refers to the presence of unjust, biased, or discriminatory practices that result in one party being disadvantaged or treated inequitably compared to others. It involves actions or conditions that deviate from ethical standards, principles of transparency, and the equitable treatment of all parties involved in the agreement. Unfairness can undermine trust, damage relationships, and potentially lead to legal or reputational consequences.\n",
        "\n",
        "                Please read each requirement statement and classify it as either \"Functional\" or \"Non-Functional\" based on the provided definitions.\n",
        "    \"\"\"\n",
        ")\n",
        "\n",
        "\n",
        "print(final_prompt.format(requirements =examples[3][\"requirements\"] ))\n"
      ],
      "metadata": {
        "colab": {
          "base_uri": "https://localhost:8080/"
        },
        "id": "S7RX6cosuw6b",
        "outputId": "4137adee-f222-4dca-9cdf-976b82cf0b89"
      },
      "id": "S7RX6cosuw6b",
      "execution_count": null,
      "outputs": [
        {
          "output_type": "stream",
          "name": "stdout",
          "text": [
            "You are a requirements analyst. Classify the given software requirements as \"Functional\" or \"Non Functional\" categories. Please read each requirement carefully and determine its classification based on the definitions provided below.\n",
            "\n",
            "                <Functional>: Functional requirements specify what the software system should do. They define the specific functionalities, operations, and interactions the system needs to support. Functional requirements describe the system's behavior in response to different inputs and events.\n",
            "\n",
            "                <Non-Functional>: Non-functional requirements, often referred to as quality attributes or constraints, specify how the system should perform its functions. These requirements describe characteristics that are critical to the overall user experience, such as performance, security, scalability, usability, and reliability.\n",
            "\n",
            "                Please read each requirement statement and classify it as either \"Functional\" or \"Non-Functional\" based on the provided definitions.\n",
            "    \n",
            "\n",
            "\n",
            "Requirements: The users should be able to easily use the system to successfully complete their budgets  within the stipulated time for completion. With a week of training prior to product implementation  98% of the users shall complete their budgets within the stipulated time.\n",
            "Categories: Non Functional\n",
            "\n",
            "\n",
            "\n",
            "Requirements: The system shall allow user to choose their preferable topping.\n",
            "Categories: Functional\n",
            "\n",
            "\n",
            "\n",
            "Requirements: Can give feedback to the 24X7 Customer Care Service center about their impression for the site and services.\n",
            "Categories: Functional\n",
            "\n",
            "\n",
            "\n",
            "Requirements: The Disputes applications shall interface with the Merchant Information Database. The Merchant Information Database provides detailed information with regard to the merchant. All merchant detail information shall be obtained from the Merchant Information Database.\n",
            "Categories: Non Functional\n",
            "\n",
            "\n",
            "\n",
            "Requirements: The product shall display each type of ship in a grid using an image of the specific type of ship.\n",
            "Categories: Non Functional\n",
            "\n",
            "\n",
            "\n",
            "Requirements: The system shall display only 10 matching result on the current screen.\n",
            "Categories: Functional\n",
            "\n",
            "\n",
            "Requirements: The Disputes applications shall interface with the Merchant Information Database. The Merchant Information Database provides detailed information with regard to the merchant. All merchant detail information shall be obtained from the Merchant Information Database. \n",
            "Categories: \n"
          ]
        }
      ]
    },
    {
      "cell_type": "code",
      "source": [
        "llm = OpenAI(temperature=0.2)"
      ],
      "metadata": {
        "id": "G_FTAPhNnDTt"
      },
      "id": "G_FTAPhNnDTt",
      "execution_count": null,
      "outputs": []
    },
    {
      "cell_type": "code",
      "source": [
        "extraction_chain = LLMChain(llm = llm , prompt = final_prompt , output_key= \"categories\" )"
      ],
      "metadata": {
        "id": "CXrKzCH3nO0e"
      },
      "id": "CXrKzCH3nO0e",
      "execution_count": null,
      "outputs": []
    },
    {
      "cell_type": "code",
      "source": [
        "preds,actual,acc = eval(extraction_chain,val)"
      ],
      "metadata": {
        "colab": {
          "base_uri": "https://localhost:8080/"
        },
        "id": "ku7T4_9gm71K",
        "outputId": "119706ac-5dc1-4a57-ef11-b420c1bdbed9"
      },
      "id": "ku7T4_9gm71K",
      "execution_count": null,
      "outputs": [
        {
          "output_type": "stream",
          "name": "stderr",
          "text": [
            "100%|██████████| 194/194 [1:38:17<00:00, 30.40s/it]\n"
          ]
        }
      ]
    },
    {
      "cell_type": "code",
      "source": [
        "acc"
      ],
      "metadata": {
        "colab": {
          "base_uri": "https://localhost:8080/"
        },
        "id": "M79k1PzApKQH",
        "outputId": "cbb41b49-3676-4b6f-b0c5-7c9407964603"
      },
      "id": "M79k1PzApKQH",
      "execution_count": null,
      "outputs": [
        {
          "output_type": "execute_result",
          "data": {
            "text/plain": [
              "0.8711340206185567"
            ]
          },
          "metadata": {},
          "execution_count": 38
        }
      ]
    },
    {
      "cell_type": "markdown",
      "source": [
        "# Prediction\n",
        "\n",
        "# Using Zero shot"
      ],
      "metadata": {
        "id": "IVFs7Q9W9uYh"
      },
      "id": "IVFs7Q9W9uYh"
    },
    {
      "cell_type": "code",
      "source": [
        "llm = OpenAI(temperature=0.2)"
      ],
      "metadata": {
        "id": "BR7BQlib9zOP"
      },
      "id": "BR7BQlib9zOP",
      "execution_count": null,
      "outputs": []
    },
    {
      "cell_type": "code",
      "source": [
        "template = \"\"\"You are a requirements analyst. Classify the given software requirements as \"Functional\" or \"Non Functional\" categories. Please read each requirement carefully and determine its classification based on the definitions provided below.\n",
        "\n",
        "                <Functional>: Functional requirements specify what the software system should do. They define the specific functionalities, operations, and interactions the system needs to support. Functional requirements describe the system's behavior in response to different inputs and events.\n",
        "\n",
        "                <Non-Functional>: Non-functional requirements, often referred to as quality attributes or constraints, specify how the system should perform its functions. These requirements describe characteristics that are critical to the overall user experience, such as performance, security, scalability, usability, and reliability.\n",
        "\n",
        "                Please read each requirement statement and classify it as either \"Functional\" or \"Non-Functional\" based on the provided definitions.\n",
        "\n",
        "                ```\n",
        "                {requirements}\n",
        "                ```\n",
        "    \"\"\"\n",
        "\n",
        "\n",
        "\n",
        "prompt_template_name = PromptTemplate(\n",
        "    input_variables =['requirements'],\n",
        "    template = template\n",
        ")\n",
        "\n",
        "p = prompt_template_name.format(requirements= examples[3][\"requirements\"] )\n"
      ],
      "metadata": {
        "id": "O5IAE0bh9zUY"
      },
      "id": "O5IAE0bh9zUY",
      "execution_count": null,
      "outputs": []
    },
    {
      "cell_type": "code",
      "source": [
        "extraction_chain = LLMChain(llm=llm, prompt=prompt_template_name)\n",
        "\n",
        "preds,actual,acc = eval(extraction_chain,val,few_shot = False)"
      ],
      "metadata": {
        "id": "0MD1wYxudKcD",
        "colab": {
          "base_uri": "https://localhost:8080/"
        },
        "outputId": "8222da01-0ab2-4fd5-efbb-e642d416d7df"
      },
      "id": "0MD1wYxudKcD",
      "execution_count": null,
      "outputs": [
        {
          "output_type": "stream",
          "name": "stderr",
          "text": [
            "100%|██████████| 194/194 [2:11:20<00:00, 40.62s/it]\n"
          ]
        }
      ]
    },
    {
      "cell_type": "code",
      "source": [
        "acc"
      ],
      "metadata": {
        "colab": {
          "base_uri": "https://localhost:8080/"
        },
        "id": "N8t-3-uZeDGM",
        "outputId": "76ffe10e-d6f6-497d-9eb0-d687777c0693"
      },
      "id": "N8t-3-uZeDGM",
      "execution_count": null,
      "outputs": [
        {
          "output_type": "execute_result",
          "data": {
            "text/plain": [
              "0.8298969072164949"
            ]
          },
          "metadata": {},
          "execution_count": 21
        }
      ]
    },
    {
      "cell_type": "code",
      "source": [],
      "metadata": {
        "id": "Qc5OlwBO9xm_"
      },
      "id": "Qc5OlwBO9xm_",
      "execution_count": null,
      "outputs": []
    },
    {
      "cell_type": "markdown",
      "source": [
        "# visualize few examples"
      ],
      "metadata": {
        "id": "WgNUwfZjDymW"
      },
      "id": "WgNUwfZjDymW"
    },
    {
      "cell_type": "code",
      "source": [
        "def preds(n,s = 30):\n",
        "\n",
        "    for i in range(n,n+5):\n",
        "        time.sleep(s)\n",
        "        print(\"*\"*100)\n",
        "        print()\n",
        "        print(\"Input Text\")\n",
        "        print(examples[i][\"text\"])\n",
        "        print()\n",
        "        print(\"Actual Class: \",examples[i][\"class\"] )\n",
        "        print()\n",
        "        print(\"Predicted: \", extraction_chain.predict(text =examples[i][\"text\"] ))\n",
        "        print()\n",
        "\n",
        "\n"
      ],
      "metadata": {
        "id": "8dIns22oJQAl"
      },
      "id": "8dIns22oJQAl",
      "execution_count": null,
      "outputs": []
    },
    {
      "cell_type": "code",
      "source": [
        "preds(50)"
      ],
      "metadata": {
        "colab": {
          "base_uri": "https://localhost:8080/"
        },
        "id": "IUfL9NzSLVKt",
        "outputId": "f75a32d4-44bb-41dc-aed3-99e93a22fc16"
      },
      "id": "IUfL9NzSLVKt",
      "execution_count": null,
      "outputs": [
        {
          "output_type": "stream",
          "name": "stdout",
          "text": [
            "****************************************************************************************************\n",
            "\n",
            "Input Text\n",
            "The product shall have a conservative and professional appearance.\n",
            "\n",
            "Actual Class  Non Functional\n",
            "\n",
            "Predicted  \n",
            "Non Functional\n",
            "\n",
            "****************************************************************************************************\n",
            "\n",
            "Input Text\n",
            "The system shall display available payment methods for payment.\n",
            "\n",
            "Actual Class  Functional\n",
            "\n",
            "Predicted  \n",
            "Non Functional\n",
            "\n",
            "****************************************************************************************************\n",
            "\n",
            "Input Text\n",
            "100% of cardmember services representatives shall be able to successfully create a dispute case on the first encounter after completing the training course.\n",
            "\n",
            "Actual Class  Non Functional\n",
            "\n",
            "Predicted  Non Functional\n",
            "\n",
            "****************************************************************************************************\n",
            "\n",
            "Input Text\n",
            "The system shall allow user to choose their preferable topping.\n",
            "\n",
            "Actual Class  Functional\n",
            "\n",
            "Predicted  \n",
            "Functional\n",
            "\n",
            "****************************************************************************************************\n",
            "\n",
            "Input Text\n",
            "The system shall allow user to update the profile information.\n",
            "\n",
            "Actual Class  Functional\n",
            "\n",
            "Predicted  \n",
            "Functional\n",
            "\n"
          ]
        }
      ]
    },
    {
      "cell_type": "code",
      "source": [
        "preds(80)"
      ],
      "metadata": {
        "colab": {
          "base_uri": "https://localhost:8080/"
        },
        "id": "dWAuZdldMTVy",
        "outputId": "619e02a6-2da9-49c5-d9bd-407a421cc5b2"
      },
      "id": "dWAuZdldMTVy",
      "execution_count": null,
      "outputs": [
        {
          "output_type": "stream",
          "name": "stdout",
          "text": [
            "****************************************************************************************************\n",
            "\n",
            "Input Text\n",
            "The online registration system is \"self-service style\"system that shall initially address the student registration needs.\n",
            "\n",
            "Actual Class:  Functional\n",
            "\n",
            "Predicted:  \n",
            "Non Functional\n",
            "\n",
            "****************************************************************************************************\n",
            "\n",
            "Input Text\n",
            "The meeting scheduler system shall be able to select a participant as an important participant.\n",
            "\n",
            "Actual Class:  Functional\n",
            "\n",
            "Predicted:  \n",
            "Non Functional\n",
            "\n",
            "****************************************************************************************************\n",
            "\n",
            "Input Text\n",
            "The product shall have audit capabilities.The product shall store messages for a minimum of one year for audit and transaction tracking purposes.\n",
            "\n",
            "Actual Class:  Non Functional\n",
            "\n",
            "Predicted:  \n",
            "Functional\n",
            "\n",
            "****************************************************************************************************\n",
            "\n",
            "Input Text\n",
            "Program Administrators/Nursing Staff Members shall be able to create a new Program of Study.\n",
            "\n",
            "Actual Class:  Functional\n",
            "\n",
            "Predicted:  \n",
            "Functional\n",
            "\n",
            "****************************************************************************************************\n",
            "\n",
            "Input Text\n",
            "The product shall be platform independent.The product shall enable access to any type of development environment and platform.\n",
            "\n",
            "Actual Class:  Non Functional\n",
            "\n",
            "Predicted:  Non Functional\n",
            "\n"
          ]
        }
      ]
    }
  ],
  "metadata": {
    "kernelspec": {
      "display_name": "Python 3",
      "name": "python3"
    },
    "language_info": {
      "codemirror_mode": {
        "name": "ipython",
        "version": 3
      },
      "file_extension": ".py",
      "mimetype": "text/x-python",
      "name": "python",
      "nbconvert_exporter": "python",
      "pygments_lexer": "ipython3",
      "version": "3.10.11"
    },
    "colab": {
      "provenance": []
    }
  },
  "nbformat": 4,
  "nbformat_minor": 5
}